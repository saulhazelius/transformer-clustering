{
 "cells": [
  {
   "cell_type": "markdown",
   "metadata": {},
   "source": [
    "## visualize words similarities via t-sne and sentence-transformer "
   ]
  },
  {
   "cell_type": "code",
   "execution_count": 2,
   "metadata": {},
   "outputs": [
    {
     "name": "stderr",
     "output_type": "stream",
     "text": [
      "I1229 16:35:13.771857 139849172682560 file_utils.py:40] PyTorch version 1.1.0 available.\n"
     ]
    }
   ],
   "source": [
    "from sentence_transformers import SentenceTransformer"
   ]
  },
  {
   "cell_type": "markdown",
   "metadata": {},
   "source": [
    "## load pretrained model"
   ]
  },
  {
   "cell_type": "code",
   "execution_count": 3,
   "metadata": {},
   "outputs": [
    {
     "name": "stderr",
     "output_type": "stream",
     "text": [
      "I1229 16:35:52.983521 139849172682560 SentenceTransformer.py:29] Load pretrained SentenceTransformer: bert-base-nli-mean-tokens\n",
      "I1229 16:35:52.985561 139849172682560 SentenceTransformer.py:32] Did not find a / or \\ in the name. Assume to download model from server\n",
      "I1229 16:35:53.160154 139849172682560 SentenceTransformer.py:68] Load SentenceTransformer from folder: /home/saul/.cache/torch/sentence_transformers/public.ukp.informatik.tu-darmstadt.de_reimers_sentence-transformers_v0.2_bert-base-nli-mean-tokens.zip\n",
      "I1229 16:35:53.216943 139849172682560 configuration_utils.py:154] loading configuration file /home/saul/.cache/torch/sentence_transformers/public.ukp.informatik.tu-darmstadt.de_reimers_sentence-transformers_v0.2_bert-base-nli-mean-tokens.zip/0_BERT/config.json\n",
      "I1229 16:35:53.218326 139849172682560 configuration_utils.py:174] Model config {\n",
      "  \"attention_probs_dropout_prob\": 0.1,\n",
      "  \"finetuning_task\": null,\n",
      "  \"hidden_act\": \"gelu\",\n",
      "  \"hidden_dropout_prob\": 0.1,\n",
      "  \"hidden_size\": 768,\n",
      "  \"initializer_range\": 0.02,\n",
      "  \"intermediate_size\": 3072,\n",
      "  \"is_decoder\": false,\n",
      "  \"layer_norm_eps\": 1e-12,\n",
      "  \"max_position_embeddings\": 512,\n",
      "  \"num_attention_heads\": 12,\n",
      "  \"num_hidden_layers\": 12,\n",
      "  \"num_labels\": 2,\n",
      "  \"output_attentions\": false,\n",
      "  \"output_hidden_states\": false,\n",
      "  \"output_past\": true,\n",
      "  \"pruned_heads\": {},\n",
      "  \"torchscript\": false,\n",
      "  \"type_vocab_size\": 2,\n",
      "  \"use_bfloat16\": false,\n",
      "  \"vocab_size\": 30522\n",
      "}\n",
      "\n",
      "I1229 16:35:53.219957 139849172682560 modeling_utils.py:390] loading weights file /home/saul/.cache/torch/sentence_transformers/public.ukp.informatik.tu-darmstadt.de_reimers_sentence-transformers_v0.2_bert-base-nli-mean-tokens.zip/0_BERT/pytorch_model.bin\n",
      "I1229 16:37:43.619995 139849172682560 tokenization_utils.py:311] Model name '/home/saul/.cache/torch/sentence_transformers/public.ukp.informatik.tu-darmstadt.de_reimers_sentence-transformers_v0.2_bert-base-nli-mean-tokens.zip/0_BERT' not found in model shortcut name list (bert-base-uncased, bert-large-uncased, bert-base-cased, bert-large-cased, bert-base-multilingual-uncased, bert-base-multilingual-cased, bert-base-chinese, bert-base-german-cased, bert-large-uncased-whole-word-masking, bert-large-cased-whole-word-masking, bert-large-uncased-whole-word-masking-finetuned-squad, bert-large-cased-whole-word-masking-finetuned-squad, bert-base-cased-finetuned-mrpc, bert-base-german-dbmdz-cased, bert-base-german-dbmdz-uncased). Assuming '/home/saul/.cache/torch/sentence_transformers/public.ukp.informatik.tu-darmstadt.de_reimers_sentence-transformers_v0.2_bert-base-nli-mean-tokens.zip/0_BERT' is a path or url to a directory containing tokenizer files.\n",
      "I1229 16:37:44.303762 139849172682560 tokenization_utils.py:340] Didn't find file /home/saul/.cache/torch/sentence_transformers/public.ukp.informatik.tu-darmstadt.de_reimers_sentence-transformers_v0.2_bert-base-nli-mean-tokens.zip/0_BERT/tokenizer_config.json. We won't load it.\n",
      "I1229 16:37:44.306082 139849172682560 tokenization_utils.py:376] loading file /home/saul/.cache/torch/sentence_transformers/public.ukp.informatik.tu-darmstadt.de_reimers_sentence-transformers_v0.2_bert-base-nli-mean-tokens.zip/0_BERT/vocab.txt\n",
      "I1229 16:37:44.307902 139849172682560 tokenization_utils.py:376] loading file /home/saul/.cache/torch/sentence_transformers/public.ukp.informatik.tu-darmstadt.de_reimers_sentence-transformers_v0.2_bert-base-nli-mean-tokens.zip/0_BERT/added_tokens.json\n",
      "I1229 16:37:44.309458 139849172682560 tokenization_utils.py:376] loading file /home/saul/.cache/torch/sentence_transformers/public.ukp.informatik.tu-darmstadt.de_reimers_sentence-transformers_v0.2_bert-base-nli-mean-tokens.zip/0_BERT/special_tokens_map.json\n",
      "I1229 16:37:44.310953 139849172682560 tokenization_utils.py:376] loading file None\n",
      "I1229 16:37:49.610430 139849172682560 SentenceTransformer.py:89] Use pytorch device: cpu\n"
     ]
    }
   ],
   "source": [
    "model = SentenceTransformer('bert-base-nli-mean-tokens')\n"
   ]
  },
  {
   "cell_type": "code",
   "execution_count": 5,
   "metadata": {},
   "outputs": [],
   "source": [
    "import pandas as pd\n",
    "from sklearn.manifold import TSNE\n",
    "import re\n",
    "from nltk.corpus import stopwords\n",
    "import numpy as np\n"
   ]
  },
  {
   "cell_type": "code",
   "execution_count": 6,
   "metadata": {},
   "outputs": [],
   "source": [
    "#parameters\n",
    "MIN = 5\n",
    "STOPWORDS = True\n",
    "SIZE = 10000\n"
   ]
  },
  {
   "cell_type": "code",
   "execution_count": 7,
   "metadata": {},
   "outputs": [],
   "source": [
    "df = pd.read_csv('../data/reddit_batch1/batch.csv')"
   ]
  },
  {
   "cell_type": "code",
   "execution_count": 8,
   "metadata": {},
   "outputs": [],
   "source": [
    "df = df.iloc[0:SIZE]"
   ]
  },
  {
   "cell_type": "code",
   "execution_count": 9,
   "metadata": {},
   "outputs": [],
   "source": [
    "nn = df['topic'].unique().shape[0]"
   ]
  },
  {
   "cell_type": "code",
   "execution_count": 10,
   "metadata": {},
   "outputs": [],
   "source": [
    "stop_words = set(stopwords.words('english'))\n"
   ]
  },
  {
   "cell_type": "code",
   "execution_count": 11,
   "metadata": {},
   "outputs": [],
   "source": [
    "#for transformer\n",
    "def clean_sen_trans(sent):\n",
    "    clean_list = ''\n",
    "    if STOPWORDS == True:\n",
    "        for word in sent.split():\n",
    "           # print(word)\n",
    "            if word not in stop_words:\n",
    "                word = re.sub('[\\W_]+','',word)\n",
    "                word = re.sub(' +', ' ', word)\n",
    "                clean_list +=word.lower()+str(' ')\n",
    "    else:\n",
    "        for word in sent.split():\n",
    "            word = re.sub('[\\W_]+','',word)\n",
    "            word = re.sub(' +', ' ', word)\n",
    "            clean_list +=word.lower()+str(' ')\n",
    "\n",
    "    return clean_list\n",
    "    "
   ]
  },
  {
   "cell_type": "code",
   "execution_count": 12,
   "metadata": {},
   "outputs": [],
   "source": [
    "pre1= []\n",
    "for i in df.sentence:\n",
    "    clean = clean_sen_trans(i)\n",
    "    if len(clean) > MIN:\n",
    "        pre1.append(clean)\n",
    "       \n",
    "    \n",
    "    "
   ]
  },
  {
   "cell_type": "code",
   "execution_count": 13,
   "metadata": {},
   "outputs": [],
   "source": [
    "embeddings = model.encode(pre1,show_progress_bar=False)"
   ]
  },
  {
   "cell_type": "code",
   "execution_count": 14,
   "metadata": {},
   "outputs": [
    {
     "data": {
      "text/plain": [
       "(768,)"
      ]
     },
     "execution_count": 14,
     "metadata": {},
     "output_type": "execute_result"
    }
   ],
   "source": [
    "embeddings[0].shape"
   ]
  },
  {
   "cell_type": "code",
   "execution_count": 15,
   "metadata": {},
   "outputs": [],
   "source": [
    "def create_vocab(sens):\n",
    "    voc = []\n",
    "    for sen in sens:\n",
    "        for word in sen.split():\n",
    "            if not word in voc:\n",
    "                voc.append(word)\n",
    "    return voc"
   ]
  },
  {
   "cell_type": "code",
   "execution_count": 16,
   "metadata": {},
   "outputs": [],
   "source": [
    "voc = create_vocab(pre1)\n"
   ]
  },
  {
   "cell_type": "code",
   "execution_count": 17,
   "metadata": {
    "scrolled": true
   },
   "outputs": [
    {
     "name": "stdout",
     "output_type": "stream",
     "text": [
      "['walnut', 'select', 'australia', 'obsessions', 'lsd25', 'stop', 'pollack', 'friends']\n"
     ]
    }
   ],
   "source": [
    "queries=[]\n",
    "for i in range(nn):\n",
    "    queries.append(voc[np.random.randint(0,len(voc))])\n",
    "print(queries)\n",
    "query_embeddings = model.encode(queries,show_progress_bar=False)"
   ]
  },
  {
   "cell_type": "code",
   "execution_count": 18,
   "metadata": {},
   "outputs": [],
   "source": [
    "w_embs = model.encode(voc,show_progress_bar=False)\n",
    "    "
   ]
  },
  {
   "cell_type": "code",
   "execution_count": 19,
   "metadata": {
    "scrolled": true
   },
   "outputs": [],
   "source": [
    "import scipy.spatial\n",
    "# Find the closest nn words of the corpus for each query sentence based on cosine similarity\n",
    "closest_n = 15\n",
    "words_cl=[]\n",
    "embs_cl=[]\n",
    "for query, query_embedding in zip(queries, query_embeddings):\n",
    "  #  distances = scipy.spatial.distance.cdist([query_embedding], embeddings, \"cosine\")[0]\n",
    "    distances = scipy.spatial.distance.cdist([query_embedding], w_embs, \"cosine\")[0]\n",
    "    results = zip(range(len(distances)), distances)\n",
    "    results = sorted(results, key=lambda x: x[1])\n",
    "    pre_w_cl = []\n",
    "    pre_e_cl =[]\n",
    "    for idx, distance in results[0:closest_n]:\n",
    "        pre_w_cl.append(voc[idx])\n",
    "        pre_e_cl.append(w_embs[idx])\n",
    "       \n",
    "     #   print(pre1[idx].strip(), 1-distance)\n",
    "        #print(voc[idx].strip(), 1-distance)\n",
    "    words_cl.append(pre_w_cl)\n",
    "    embs_cl.append(pre_e_cl)"
   ]
  },
  {
   "cell_type": "code",
   "execution_count": 20,
   "metadata": {},
   "outputs": [],
   "source": [
    "top = closest_n"
   ]
  },
  {
   "cell_type": "code",
   "execution_count": 21,
   "metadata": {},
   "outputs": [],
   "source": [
    "import matplotlib.pyplot as plt\n",
    "import matplotlib.cm as cm\n",
    "%matplotlib inline\n",
    "\n",
    "def plotsne(words,embs,perp):\n",
    "    \n",
    "    embs1 = np.array(embs).reshape(nn*top,768) ### reshape to nrandom*topn,DIM\n",
    "    tsne_2d = TSNE(perplexity=perp, n_components=2, init='pca', n_iter=3500, random_state=32)\n",
    "    emb_2d = np.array(tsne_2d.fit_transform(np.array(embs1)))    \n",
    "    \n",
    "    plt.figure(figsize=(16, 9))\n",
    "    space = np.expand_dims(np.linspace(0,1,nn),axis=1)\n",
    "    colors = cm.rainbow(space)\n",
    "    \n",
    "    \n",
    "    j = 0\n",
    "    jj = 0\n",
    "    for clust in words:\n",
    "        \n",
    "        for i in clust:\n",
    "\n",
    "            plt.annotate(i,xy=(emb_2d[j][0],emb_2d[j][1]),size=8,alpha=0.5)\n",
    "       \n",
    "            plt.scatter(emb_2d[j,0],emb_2d[j,1],alpha=0.8,c=colors[jj])\n",
    "            j+=1\n",
    "        jj += 1\n",
    "    plt.show()"
   ]
  },
  {
   "cell_type": "code",
   "execution_count": 22,
   "metadata": {},
   "outputs": [
    {
     "data": {
      "image/png": "[encoded data removed]",
      "text/plain": [
       "<Figure size 1152x648 with 1 Axes>"
      ]
     },
     "metadata": {
      "needs_background": "light"
     },
     "output_type": "display_data"
    }
   ],
   "source": [
    "plotsne(words_cl,embs_cl,10)"
   ]
  },
  {
   "cell_type": "code",
   "execution_count": null,
   "metadata": {},
   "outputs": [],
   "source": []
  }
 ],
 "metadata": {
  "kernelspec": {
   "display_name": "Python 3",
   "language": "python",
   "name": "python3"
  },
  "language_info": {
   "codemirror_mode": {
    "name": "ipython",
    "version": 3
   },
   "file_extension": ".py",
   "mimetype": "text/x-python",
   "name": "python",
   "nbconvert_exporter": "python",
   "pygments_lexer": "ipython3",
   "version": "3.7.4"
  }
 },
 "nbformat": 4,
 "nbformat_minor": 2
}
